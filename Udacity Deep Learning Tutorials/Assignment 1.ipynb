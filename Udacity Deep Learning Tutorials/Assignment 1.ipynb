{
 "cells": [
  {
   "cell_type": "markdown",
   "metadata": {
    "colab_type": "text",
    "id": "5hIbr52I7Z7U"
   },
   "source": [
    "Deep Learning\n",
    "=============\n",
    "\n",
    "Assignment 1\n",
    "------------\n",
    "\n",
    "The objective of this assignment is to learn about simple data curation practices, and familiarize you with some of the data we'll be reusing later.\n",
    "\n",
    "This notebook uses the [notMNIST](http://yaroslavvb.blogspot.com/2011/09/notmnist-dataset.html) dataset to be used with python experiments. This dataset is designed to look like the classic [MNIST](http://yann.lecun.com/exdb/mnist/) dataset, while looking a little more like real data: it's a harder task, and the data is a lot less 'clean' than MNIST."
   ]
  },
  {
   "cell_type": "code",
   "execution_count": 1,
   "metadata": {
    "cellView": "both",
    "colab": {
     "autoexec": {
      "startup": false,
      "wait_interval": 0
     }
    },
    "colab_type": "code",
    "id": "apJbCsBHl-2A"
   },
   "outputs": [],
   "source": [
    "# These are all the modules we'll be using later. Make sure you can import them\n",
    "# before proceeding further.\n",
    "from __future__ import print_function\n",
    "import imageio\n",
    "import matplotlib.pyplot as plt\n",
    "import numpy as np\n",
    "import os\n",
    "import sys\n",
    "import tarfile\n",
    "from IPython.display import display, Image\n",
    "from sklearn.linear_model import LogisticRegression\n",
    "from six.moves.urllib.request import urlretrieve\n",
    "from six.moves import cPickle as pickle\n",
    "from random import randint, sample\n",
    "\n",
    "# Config the matplotlib backend as plotting inline in IPython\n",
    "%matplotlib inline"
   ]
  },
  {
   "cell_type": "markdown",
   "metadata": {
    "colab_type": "text",
    "id": "jNWGtZaXn-5j"
   },
   "source": [
    "First, we'll download the dataset to our local machine. The data consists of characters rendered in a variety of fonts on a 28x28 image. The labels are limited to 'A' through 'J' (10 classes). The training set has about 500k and the testset 19000 labeled examples. Given these sizes, it should be possible to train models quickly on any machine."
   ]
  },
  {
   "cell_type": "code",
   "execution_count": 2,
   "metadata": {
    "cellView": "both",
    "colab": {
     "autoexec": {
      "startup": false,
      "wait_interval": 0
     },
     "output_extras": [
      {
       "item_id": 1
      }
     ]
    },
    "colab_type": "code",
    "executionInfo": {
     "elapsed": 186058,
     "status": "ok",
     "timestamp": 1444485672507,
     "user": {
      "color": "#1FA15D",
      "displayName": "Vincent Vanhoucke",
      "isAnonymous": false,
      "isMe": true,
      "permissionId": "05076109866853157986",
      "photoUrl": "//lh6.googleusercontent.com/-cCJa7dTDcgQ/AAAAAAAAAAI/AAAAAAAACgw/r2EZ_8oYer4/s50-c-k-no/photo.jpg",
      "sessionId": "2a0a5e044bb03b66",
      "userId": "102167687554210253930"
     },
     "user_tz": 420
    },
    "id": "EYRJ4ICW6-da",
    "outputId": "0d0f85df-155f-4a89-8e7e-ee32df36ec8d"
   },
   "outputs": [
    {
     "name": "stdout",
     "output_type": "stream",
     "text": [
      "Found and verified D:\\Domanis\\Datas\\notMNIST_large.tar.gz\n",
      "Found and verified D:\\Domanis\\Datas\\notMNIST_small.tar.gz\n"
     ]
    }
   ],
   "source": [
    "url = 'https://commondatastorage.googleapis.com/books1000/'\n",
    "last_percent_reported = None\n",
    "data_root = 'D:\\Domanis\\Datas' # Change me to store data elsewhere\n",
    "\n",
    "def download_progress_hook(count, blockSize, totalSize):\n",
    "  \"\"\"A hook to report the progress of a download. This is mostly intended for users with\n",
    "  slow internet connections. Reports every 5% change in download progress.\n",
    "  \"\"\"\n",
    "  global last_percent_reported\n",
    "  percent = int(count * blockSize * 100 / totalSize)\n",
    "\n",
    "  if last_percent_reported != percent:\n",
    "    if percent % 5 == 0:\n",
    "      sys.stdout.write(\"%s%%\" % percent)\n",
    "      sys.stdout.flush()\n",
    "    else:\n",
    "      sys.stdout.write(\".\")\n",
    "      sys.stdout.flush()\n",
    "      \n",
    "    last_percent_reported = percent\n",
    "        \n",
    "def maybe_download(filename, expected_bytes, force=False):\n",
    "  \"\"\"Download a file if not present, and make sure it's the right size.\"\"\"\n",
    "  dest_filename = os.path.join(data_root, filename)\n",
    "  if force or not os.path.exists(dest_filename):\n",
    "    print('Attempting to download:', filename) \n",
    "    filename, _ = urlretrieve(url + filename, dest_filename, reporthook=download_progress_hook)\n",
    "    print('\\nDownload Complete!')\n",
    "  statinfo = os.stat(dest_filename)\n",
    "  if statinfo.st_size == expected_bytes:\n",
    "    print('Found and verified', dest_filename)\n",
    "  else:\n",
    "    raise Exception(\n",
    "      'Failed to verify ' + dest_filename + '. Can you get to it with a browser?')\n",
    "  return dest_filename\n",
    "\n",
    "train_filename = maybe_download('notMNIST_large.tar.gz', 247336696)\n",
    "test_filename = maybe_download('notMNIST_small.tar.gz', 8458043)"
   ]
  },
  {
   "cell_type": "markdown",
   "metadata": {
    "colab_type": "text",
    "id": "cC3p0oEyF8QT"
   },
   "source": [
    "Extract the dataset from the compressed .tar.gz file.\n",
    "This should give you a set of directories, labeled A through J."
   ]
  },
  {
   "cell_type": "code",
   "execution_count": 3,
   "metadata": {
    "cellView": "both",
    "colab": {
     "autoexec": {
      "startup": false,
      "wait_interval": 0
     },
     "output_extras": [
      {
       "item_id": 1
      }
     ]
    },
    "colab_type": "code",
    "executionInfo": {
     "elapsed": 186055,
     "status": "ok",
     "timestamp": 1444485672525,
     "user": {
      "color": "#1FA15D",
      "displayName": "Vincent Vanhoucke",
      "isAnonymous": false,
      "isMe": true,
      "permissionId": "05076109866853157986",
      "photoUrl": "//lh6.googleusercontent.com/-cCJa7dTDcgQ/AAAAAAAAAAI/AAAAAAAACgw/r2EZ_8oYer4/s50-c-k-no/photo.jpg",
      "sessionId": "2a0a5e044bb03b66",
      "userId": "102167687554210253930"
     },
     "user_tz": 420
    },
    "id": "H8CBE-WZ8nmj",
    "outputId": "ef6c790c-2513-4b09-962e-27c79390c762"
   },
   "outputs": [
    {
     "name": "stdout",
     "output_type": "stream",
     "text": [
      "D:\\Domanis\\Datas\\notMNIST_large already present - Skipping extraction of D:\\Domanis\\Datas\\notMNIST_large.tar.gz.\n"
     ]
    },
    {
     "ename": "Exception",
     "evalue": "Expected 10 folders, one per class. Found 11 instead.",
     "output_type": "error",
     "traceback": [
      "\u001b[1;31m---------------------------------------------------------------------------\u001b[0m",
      "\u001b[1;31mException\u001b[0m                                 Traceback (most recent call last)",
      "\u001b[1;32m<ipython-input-3-1c5b94bfe2ac>\u001b[0m in \u001b[0;36m<module>\u001b[1;34m()\u001b[0m\n\u001b[0;32m     23\u001b[0m   \u001b[1;32mreturn\u001b[0m \u001b[0mdata_folders\u001b[0m\u001b[1;33m\u001b[0m\u001b[0m\n\u001b[0;32m     24\u001b[0m \u001b[1;33m\u001b[0m\u001b[0m\n\u001b[1;32m---> 25\u001b[1;33m \u001b[0mtrain_folders\u001b[0m \u001b[1;33m=\u001b[0m \u001b[0mmaybe_extract\u001b[0m\u001b[1;33m(\u001b[0m\u001b[0mtrain_filename\u001b[0m\u001b[1;33m)\u001b[0m\u001b[1;33m\u001b[0m\u001b[0m\n\u001b[0m\u001b[0;32m     26\u001b[0m \u001b[0mtest_folders\u001b[0m \u001b[1;33m=\u001b[0m \u001b[0mmaybe_extract\u001b[0m\u001b[1;33m(\u001b[0m\u001b[0mtest_filename\u001b[0m\u001b[1;33m)\u001b[0m\u001b[1;33m\u001b[0m\u001b[0m\n",
      "\u001b[1;32m<ipython-input-3-1c5b94bfe2ac>\u001b[0m in \u001b[0;36mmaybe_extract\u001b[1;34m(filename, force)\u001b[0m\n\u001b[0;32m     19\u001b[0m     raise Exception(\n\u001b[0;32m     20\u001b[0m       'Expected %d folders, one per class. Found %d instead.' % (\n\u001b[1;32m---> 21\u001b[1;33m         num_classes, len(data_folders)))\n\u001b[0m\u001b[0;32m     22\u001b[0m   \u001b[0mprint\u001b[0m\u001b[1;33m(\u001b[0m\u001b[0mdata_folders\u001b[0m\u001b[1;33m)\u001b[0m\u001b[1;33m\u001b[0m\u001b[0m\n\u001b[0;32m     23\u001b[0m   \u001b[1;32mreturn\u001b[0m \u001b[0mdata_folders\u001b[0m\u001b[1;33m\u001b[0m\u001b[0m\n",
      "\u001b[1;31mException\u001b[0m: Expected 10 folders, one per class. Found 11 instead."
     ]
    }
   ],
   "source": [
    "num_classes = 10\n",
    "np.random.seed(133)\n",
    "\n",
    "def maybe_extract(filename, force=False):\n",
    "  root = os.path.splitext(os.path.splitext(filename)[0])[0]  # remove .tar.gz\n",
    "  if os.path.isdir(root) and not force:\n",
    "    # You may override by setting force=True.\n",
    "    print('%s already present - Skipping extraction of %s.' % (root, filename))\n",
    "  else:\n",
    "    print('Extracting data for %s. This may take a while. Please wait.' % root)\n",
    "    tar = tarfile.open(filename)\n",
    "    sys.stdout.flush()\n",
    "    tar.extractall(data_root)\n",
    "    tar.close()\n",
    "  data_folders = [\n",
    "    os.path.join(root, d) for d in sorted(os.listdir(root))\n",
    "    if os.path.isdir(os.path.join(root, d))]\n",
    "  if len(data_folders) != num_classes:\n",
    "    raise Exception(\n",
    "      'Expected %d folders, one per class. Found %d instead.' % (\n",
    "        num_classes, len(data_folders)))\n",
    "  print(data_folders)\n",
    "  return data_folders\n",
    "  \n",
    "train_folders = maybe_extract(train_filename)\n",
    "test_folders = maybe_extract(test_filename)"
   ]
  },
  {
   "cell_type": "markdown",
   "metadata": {
    "colab_type": "text",
    "id": "4riXK3IoHgx6"
   },
   "source": [
    "---\n",
    "Problem 1\n",
    "---------\n",
    "\n",
    "Let's take a peek at some of the data to make sure it looks sensible. Each exemplar should be an image of a character A through J rendered in a different font. Display a sample of the images that we just downloaded. Hint: you can use the package IPython.display.\n",
    "\n",
    "---"
   ]
  },
  {
   "cell_type": "code",
   "execution_count": 4,
   "metadata": {},
   "outputs": [
    {
     "data": {
      "image/png": "[encoded data removed]",
      "text/plain": [
       "<IPython.core.display.Image object>"
      ]
     },
     "metadata": {},
     "output_type": "display_data"
    }
   ],
   "source": [
    "liste = os.listdir(\"D:/Domanis/Datas/notMNIST_large/A\")\n",
    "num = randint(0,len(liste))\n",
    "#image = Image(\"D:/Domanis/Datas/notMNIST_large/A/{Image}\".format(Image=liste[num]))\n",
    "image = Image(os.path.join(\"D:/Domanis/Datas/notMNIST_large/A\",liste[num]))\n",
    "display(image)"
   ]
  },
  {
   "cell_type": "markdown",
   "metadata": {
    "colab_type": "text",
    "id": "PBdkjESPK8tw"
   },
   "source": [
    "Now let's load the data in a more manageable format. Since, depending on your computer setup you might not be able to fit it all in memory, we'll load each class into a separate dataset, store them on disk and curate them independently. Later we'll merge them into a single dataset of manageable size.\n",
    "\n",
    "We'll convert the entire dataset into a 3D array (image index, x, y) of floating point values, normalized to have approximately zero mean and standard deviation ~0.5 to make training easier down the road. \n",
    "\n",
    "A few images might not be readable, we'll just skip them."
   ]
  },
  {
   "cell_type": "code",
   "execution_count": 4,
   "metadata": {
    "cellView": "both",
    "colab": {
     "autoexec": {
      "startup": false,
      "wait_interval": 0
     },
     "output_extras": [
      {
       "item_id": 30
      }
     ]
    },
    "colab_type": "code",
    "executionInfo": {
     "elapsed": 399874,
     "status": "ok",
     "timestamp": 1444485886378,
     "user": {
      "color": "#1FA15D",
      "displayName": "Vincent Vanhoucke",
      "isAnonymous": false,
      "isMe": true,
      "permissionId": "05076109866853157986",
      "photoUrl": "//lh6.googleusercontent.com/-cCJa7dTDcgQ/AAAAAAAAAAI/AAAAAAAACgw/r2EZ_8oYer4/s50-c-k-no/photo.jpg",
      "sessionId": "2a0a5e044bb03b66",
      "userId": "102167687554210253930"
     },
     "user_tz": 420
    },
    "id": "h7q0XhG3MJdf",
    "outputId": "92c391bb-86ff-431d-9ada-315568a19e59"
   },
   "outputs": [
    {
     "name": "stdout",
     "output_type": "stream",
     "text": [
      "Pickling D:/Domanis/Datas/notMNIST_large\\A.pickle.\n"
     ]
    },
    {
     "ename": "KeyboardInterrupt",
     "evalue": "",
     "output_type": "error",
     "traceback": [
      "\u001b[1;31m---------------------------------------------------------------------------\u001b[0m",
      "\u001b[1;31mKeyboardInterrupt\u001b[0m                         Traceback (most recent call last)",
      "\u001b[1;32m<ipython-input-4-f5f86051d842>\u001b[0m in \u001b[0;36m<module>\u001b[1;34m()\u001b[0m\n\u001b[0;32m     51\u001b[0m \u001b[1;33m\u001b[0m\u001b[0m\n\u001b[0;32m     52\u001b[0m   \u001b[1;32mreturn\u001b[0m \u001b[0mdataset_names\u001b[0m\u001b[1;33m\u001b[0m\u001b[0m\n\u001b[1;32m---> 53\u001b[1;33m \u001b[0mtrain_datasets\u001b[0m \u001b[1;33m=\u001b[0m \u001b[0mmaybe_pickle\u001b[0m\u001b[1;33m(\u001b[0m\u001b[1;34m\"D:/Domanis/Datas/notMNIST_large\"\u001b[0m\u001b[1;33m,\u001b[0m \u001b[1;36m45000\u001b[0m\u001b[1;33m)\u001b[0m\u001b[1;33m\u001b[0m\u001b[0m\n\u001b[0m\u001b[0;32m     54\u001b[0m \u001b[0mtest_datasets\u001b[0m \u001b[1;33m=\u001b[0m \u001b[0mmaybe_pickle\u001b[0m\u001b[1;33m(\u001b[0m\u001b[1;34m\"D:/Domanis/Datas/notMNIST_small\"\u001b[0m\u001b[1;33m,\u001b[0m \u001b[1;36m1800\u001b[0m\u001b[1;33m)\u001b[0m\u001b[1;33m\u001b[0m\u001b[0m\n",
      "\u001b[1;32m<ipython-input-4-f5f86051d842>\u001b[0m in \u001b[0;36mmaybe_pickle\u001b[1;34m(path, min_num_images_per_class, force)\u001b[0m\n\u001b[0;32m     43\u001b[0m     \u001b[1;32melse\u001b[0m\u001b[1;33m:\u001b[0m\u001b[1;33m\u001b[0m\u001b[0m\n\u001b[0;32m     44\u001b[0m       \u001b[0mprint\u001b[0m\u001b[1;33m(\u001b[0m\u001b[1;34m'Pickling %s.'\u001b[0m \u001b[1;33m%\u001b[0m \u001b[0mset_filename\u001b[0m\u001b[1;33m)\u001b[0m\u001b[1;33m\u001b[0m\u001b[0m\n\u001b[1;32m---> 45\u001b[1;33m       \u001b[0mdataset\u001b[0m \u001b[1;33m=\u001b[0m \u001b[0mload_letter\u001b[0m\u001b[1;33m(\u001b[0m\u001b[0mfull_path\u001b[0m\u001b[1;33m,\u001b[0m \u001b[0mmin_num_images_per_class\u001b[0m\u001b[1;33m)\u001b[0m\u001b[1;33m\u001b[0m\u001b[0m\n\u001b[0m\u001b[0;32m     46\u001b[0m       \u001b[1;32mtry\u001b[0m\u001b[1;33m:\u001b[0m\u001b[1;33m\u001b[0m\u001b[0m\n\u001b[0;32m     47\u001b[0m         \u001b[1;32mwith\u001b[0m \u001b[0mopen\u001b[0m\u001b[1;33m(\u001b[0m\u001b[0mset_filename\u001b[0m\u001b[1;33m,\u001b[0m \u001b[1;34m'wb'\u001b[0m\u001b[1;33m)\u001b[0m \u001b[1;32mas\u001b[0m \u001b[0mf\u001b[0m\u001b[1;33m:\u001b[0m\u001b[1;33m\u001b[0m\u001b[0m\n",
      "\u001b[1;32m<ipython-input-4-f5f86051d842>\u001b[0m in \u001b[0;36mload_letter\u001b[1;34m(folder, min_num_images)\u001b[0m\n\u001b[0;32m      4\u001b[0m \u001b[1;32mdef\u001b[0m \u001b[0mload_letter\u001b[0m\u001b[1;33m(\u001b[0m\u001b[0mfolder\u001b[0m\u001b[1;33m,\u001b[0m \u001b[0mmin_num_images\u001b[0m\u001b[1;33m)\u001b[0m\u001b[1;33m:\u001b[0m\u001b[1;33m\u001b[0m\u001b[0m\n\u001b[0;32m      5\u001b[0m   \u001b[1;34m\"\"\"Load the data for a single letter label.\"\"\"\u001b[0m\u001b[1;33m\u001b[0m\u001b[0m\n\u001b[1;32m----> 6\u001b[1;33m   \u001b[0mimage_files\u001b[0m \u001b[1;33m=\u001b[0m \u001b[0mos\u001b[0m\u001b[1;33m.\u001b[0m\u001b[0mlistdir\u001b[0m\u001b[1;33m(\u001b[0m\u001b[0mfolder\u001b[0m\u001b[1;33m)\u001b[0m\u001b[1;33m\u001b[0m\u001b[0m\n\u001b[0m\u001b[0;32m      7\u001b[0m   dataset = np.ndarray(shape=(len(image_files), image_size, image_size),\n\u001b[0;32m      8\u001b[0m                          dtype=np.float32)\n",
      "\u001b[1;31mKeyboardInterrupt\u001b[0m: "
     ]
    }
   ],
   "source": [
    "image_size = 28  # Pixel width and height.\n",
    "pixel_depth = 255.0  # Number of levels per pixel.\n",
    "\n",
    "def load_letter(folder, min_num_images):\n",
    "  \"\"\"Load the data for a single letter label.\"\"\"\n",
    "  image_files = os.listdir(folder)\n",
    "  dataset = np.ndarray(shape=(len(image_files), image_size, image_size),\n",
    "                         dtype=np.float32)\n",
    "  print(folder)\n",
    "  num_images = 0\n",
    "  for image in image_files:\n",
    "    image_file = os.path.join(folder, image)\n",
    "    try:\n",
    "      image_data = (imageio.imread(image_file).astype(float) - \n",
    "                    pixel_depth / 2) / pixel_depth\n",
    "      if image_data.shape != (image_size, image_size):\n",
    "        raise Exception('Unexpected image shape: %s' % str(image_data.shape))\n",
    "      dataset[num_images, :, :] = image_data\n",
    "      num_images = num_images + 1\n",
    "    except (IOError, ValueError) as e:\n",
    "      print('Could not read:', image_file, ':', e, '- it\\'s ok, skipping.')\n",
    "    \n",
    "  dataset = dataset[0:num_images, :, :]\n",
    "  if num_images < min_num_images:\n",
    "    raise Exception('Many fewer images than expected: %d < %d' %\n",
    "                    (num_images, min_num_images))\n",
    "    \n",
    "  print('Full dataset tensor:', dataset.shape)\n",
    "  print('Mean:', np.mean(dataset))\n",
    "  print('Standard deviation:', np.std(dataset))\n",
    "  return dataset\n",
    "        \n",
    "def maybe_pickle(path, min_num_images_per_class, force=False):\n",
    "  dataset_names = []\n",
    "  data_folders = os.listdir(path)\n",
    "  for folder in data_folders:\n",
    "    full_path = os.path.join(path,folder)\n",
    "    set_filename = full_path + '.pickle'\n",
    "    dataset_names.append(set_filename)\n",
    "    if os.path.exists(set_filename) and not force:\n",
    "      # You may override by setting force=True.\n",
    "      print('%s already present - Skipping pickling.' % set_filename)\n",
    "    else:\n",
    "      print('Pickling %s.' % set_filename)\n",
    "      dataset = load_letter(full_path, min_num_images_per_class)\n",
    "      try:\n",
    "        with open(set_filename, 'wb') as f:\n",
    "          pickle.dump(dataset, f, pickle.HIGHEST_PROTOCOL)\n",
    "      except Exception as e:\n",
    "        print('Unable to save data to', set_filename, ':', e)\n",
    "  \n",
    "  return dataset_names\n",
    "train_datasets = maybe_pickle(\"D:/Domanis/Datas/notMNIST_large\", 45000)\n",
    "test_datasets = maybe_pickle(\"D:/Domanis/Datas/notMNIST_small\", 1800)"
   ]
  },
  {
   "cell_type": "markdown",
   "metadata": {
    "colab_type": "text",
    "id": "vUdbskYE2d87"
   },
   "source": [
    "---\n",
    "Problem 2\n",
    "---------\n",
    "\n",
    "Let's verify that the data still looks good. Displaying a sample of the labels and images from the ndarray. Hint: you can use matplotlib.pyplot.\n",
    "\n",
    "---"
   ]
  },
  {
   "cell_type": "code",
   "execution_count": 21,
   "metadata": {},
   "outputs": [
    {
     "data": {
      "text/plain": [
       "<matplotlib.image.AxesImage at 0x2163716b7b8>"
      ]
     },
     "execution_count": 21,
     "metadata": {},
     "output_type": "execute_result"
    },
    {
     "data": {
      "image/png": "[encoded data removed]",
      "text/plain": [
       "<matplotlib.figure.Figure at 0x216371db9b0>"
      ]
     },
     "metadata": {},
     "output_type": "display_data"
    }
   ],
   "source": [
    "def load_pickles(chemin):\n",
    "  with open(chemin,'rb') as f:\n",
    "    return pickle.load(f)\n",
    "\n",
    "A = load_pickles('D:/Domanis/Datas/notMNIST_large/pickle/A.pickle')\n",
    "plt.imshow(A[randint(0,len(A))])"
   ]
  },
  {
   "cell_type": "markdown",
   "metadata": {
    "colab_type": "text",
    "id": "cYznx5jUwzoO"
   },
   "source": [
    "---\n",
    "Problem 3\n",
    "---------\n",
    "Another check: we expect the data to be balanced across classes. Verify that.\n",
    "\n",
    "---"
   ]
  },
  {
   "cell_type": "code",
   "execution_count": 22,
   "metadata": {},
   "outputs": [
    {
     "name": "stdout",
     "output_type": "stream",
     "text": [
      "[[ 5.2909e+04 -2.4000e+00]\n",
      " [ 5.2911e+04 -4.0000e-01]\n",
      " [ 5.2912e+04  6.0000e-01]\n",
      " [ 5.2911e+04 -4.0000e-01]\n",
      " [ 5.2912e+04  6.0000e-01]\n",
      " [ 5.2912e+04  6.0000e-01]\n",
      " [ 5.2912e+04  6.0000e-01]\n",
      " [ 5.2912e+04  6.0000e-01]\n",
      " [ 5.2912e+04  6.0000e-01]\n",
      " [ 5.2911e+04 -4.0000e-01]]\n"
     ]
    }
   ],
   "source": [
    "A = load_pickles('D:/Domanis/Datas/notMNIST_large/A.pickle')\n",
    "B = load_pickles('D:/Domanis/Datas/notMNIST_large/B.pickle')\n",
    "C = load_pickles('D:/Domanis/Datas/notMNIST_large/C.pickle')\n",
    "D = load_pickles('D:/Domanis/Datas/notMNIST_large/D.pickle')\n",
    "E = load_pickles('D:/Domanis/Datas/notMNIST_large/E.pickle')\n",
    "F = load_pickles('D:/Domanis/Datas/notMNIST_large/F.pickle')\n",
    "G = load_pickles('D:/Domanis/Datas/notMNIST_large/G.pickle')\n",
    "H = load_pickles('D:/Domanis/Datas/notMNIST_large/H.pickle')\n",
    "I = load_pickles('D:/Domanis/Datas/notMNIST_large/I.pickle')\n",
    "J = load_pickles('D:/Domanis/Datas/notMNIST_large/J.pickle')\n",
    "l = np.array([len(A),len(B),len(C),len(D),len(E),len(F),len(G),len(H),len(I),len(J)]).reshape((10,1))\n",
    "m = sum(l)/10\n",
    "d = np.array([len(A)-m,len(B)-m,len(C)-m,len(D)-m,len(E)-m,len(F)-m,len(G)-m,len(H)-m,len(I)-m,len(J)-m]).reshape((10,1))\n",
    "print(np.hstack((l,d)))\n",
    "del A,B,C,D,E,F,G,H,I,J,l,m,d"
   ]
  },
  {
   "cell_type": "markdown",
   "metadata": {},
   "source": [
    "L'approche dite du \"suicide mental\" (les lignes précédentes condensées en une seule):\n",
    "------------------------------------------------------------------------------------"
   ]
  },
  {
   "cell_type": "code",
   "execution_count": 81,
   "metadata": {
    "scrolled": true
   },
   "outputs": [
    {
     "name": "stdout",
     "output_type": "stream",
     "text": [
      "[[  5.29090000e+04  -2.40000000e+00]\n",
      " [  5.29110000e+04  -4.00000000e-01]\n",
      " [  5.29120000e+04   6.00000000e-01]\n",
      " [  5.29110000e+04  -4.00000000e-01]\n",
      " [  5.29120000e+04   6.00000000e-01]\n",
      " [  5.29120000e+04   6.00000000e-01]\n",
      " [  5.29120000e+04   6.00000000e-01]\n",
      " [  5.29120000e+04   6.00000000e-01]\n",
      " [  5.29120000e+04   6.00000000e-01]\n",
      " [  5.29110000e+04  -4.00000000e-01]]\n"
     ]
    }
   ],
   "source": [
    "#print(np.hstack((np.array([len(load_pickles('D:/Domanis/Datas/notMNIST_large/A.pickle')),len(load_pickles('D:/Domanis/Datas/notMNIST_large/B.pickle')),len(load_pickles('D:/Domanis/Datas/notMNIST_large/C.pickle')),len(load_pickles('D:/Domanis/Datas/notMNIST_large/D.pickle')),len(load_pickles('D:/Domanis/Datas/notMNIST_large/E.pickle')),len(load_pickles('D:/Domanis/Datas/notMNIST_large/F.pickle')),len(load_pickles('D:/Domanis/Datas/notMNIST_large/G.pickle')),len(load_pickles('D:/Domanis/Datas/notMNIST_large/H.pickle')),len(load_pickles('D:/Domanis/Datas/notMNIST_large/I.pickle')),len(load_pickles('D:/Domanis/Datas/notMNIST_large/J.pickle'))]).reshape((10,1)),np.array([len(load_pickles('D:/Domanis/Datas/notMNIST_large/A.pickle'))-sum(np.array([len(load_pickles('D:/Domanis/Datas/notMNIST_large/A.pickle')),len(load_pickles('D:/Domanis/Datas/notMNIST_large/B.pickle')),len(load_pickles('D:/Domanis/Datas/notMNIST_large/C.pickle')),len(load_pickles('D:/Domanis/Datas/notMNIST_large/D.pickle')),len(load_pickles('D:/Domanis/Datas/notMNIST_large/E.pickle')),len(load_pickles('D:/Domanis/Datas/notMNIST_large/F.pickle')),len(load_pickles('D:/Domanis/Datas/notMNIST_large/G.pickle')),len(load_pickles('D:/Domanis/Datas/notMNIST_large/H.pickle')),len(load_pickles('D:/Domanis/Datas/notMNIST_large/I.pickle')),len(load_pickles('D:/Domanis/Datas/notMNIST_large/J.pickle'))]).reshape((10,1)))/10,len(load_pickles('D:/Domanis/Datas/notMNIST_large/B.pickle'))-sum(np.array([len(load_pickles('D:/Domanis/Datas/notMNIST_large/A.pickle')),len(load_pickles('D:/Domanis/Datas/notMNIST_large/B.pickle')),len(load_pickles('D:/Domanis/Datas/notMNIST_large/C.pickle')),len(load_pickles('D:/Domanis/Datas/notMNIST_large/D.pickle')),len(load_pickles('D:/Domanis/Datas/notMNIST_large/E.pickle')),len(load_pickles('D:/Domanis/Datas/notMNIST_large/F.pickle')),len(load_pickles('D:/Domanis/Datas/notMNIST_large/G.pickle')),len(load_pickles('D:/Domanis/Datas/notMNIST_large/H.pickle')),len(load_pickles('D:/Domanis/Datas/notMNIST_large/I.pickle')),len(load_pickles('D:/Domanis/Datas/notMNIST_large/J.pickle'))]).reshape((10,1)))/10,len(load_pickles('D:/Domanis/Datas/notMNIST_large/C.pickle'))-sum(np.array([len(load_pickles('D:/Domanis/Datas/notMNIST_large/A.pickle')),len(load_pickles('D:/Domanis/Datas/notMNIST_large/B.pickle')),len(load_pickles('D:/Domanis/Datas/notMNIST_large/C.pickle')),len(load_pickles('D:/Domanis/Datas/notMNIST_large/D.pickle')),len(load_pickles('D:/Domanis/Datas/notMNIST_large/E.pickle')),len(load_pickles('D:/Domanis/Datas/notMNIST_large/F.pickle')),len(load_pickles('D:/Domanis/Datas/notMNIST_large/G.pickle')),len(load_pickles('D:/Domanis/Datas/notMNIST_large/H.pickle')),len(load_pickles('D:/Domanis/Datas/notMNIST_large/I.pickle')),len(load_pickles('D:/Domanis/Datas/notMNIST_large/J.pickle'))]).reshape((10,1)))/10,len(load_pickles('D:/Domanis/Datas/notMNIST_large/D.pickle'))-sum(np.array([len(load_pickles('D:/Domanis/Datas/notMNIST_large/A.pickle')),len(load_pickles('D:/Domanis/Datas/notMNIST_large/B.pickle')),len(load_pickles('D:/Domanis/Datas/notMNIST_large/C.pickle')),len(load_pickles('D:/Domanis/Datas/notMNIST_large/D.pickle')),len(load_pickles('D:/Domanis/Datas/notMNIST_large/E.pickle')),len(load_pickles('D:/Domanis/Datas/notMNIST_large/F.pickle')),len(load_pickles('D:/Domanis/Datas/notMNIST_large/G.pickle')),len(load_pickles('D:/Domanis/Datas/notMNIST_large/H.pickle')),len(load_pickles('D:/Domanis/Datas/notMNIST_large/I.pickle')),len(load_pickles('D:/Domanis/Datas/notMNIST_large/J.pickle'))]).reshape((10,1)))/10,len(load_pickles('D:/Domanis/Datas/notMNIST_large/E.pickle'))-sum(np.array([len(load_pickles('D:/Domanis/Datas/notMNIST_large/A.pickle')),len(load_pickles('D:/Domanis/Datas/notMNIST_large/B.pickle')),len(load_pickles('D:/Domanis/Datas/notMNIST_large/C.pickle')),len(load_pickles('D:/Domanis/Datas/notMNIST_large/D.pickle')),len(load_pickles('D:/Domanis/Datas/notMNIST_large/E.pickle')),len(load_pickles('D:/Domanis/Datas/notMNIST_large/F.pickle')),len(load_pickles('D:/Domanis/Datas/notMNIST_large/G.pickle')),len(load_pickles('D:/Domanis/Datas/notMNIST_large/H.pickle')),len(load_pickles('D:/Domanis/Datas/notMNIST_large/I.pickle')),len(load_pickles('D:/Domanis/Datas/notMNIST_large/J.pickle'))]).reshape((10,1)))/10,len(load_pickles('D:/Domanis/Datas/notMNIST_large/F.pickle'))-sum(np.array([len(load_pickles('D:/Domanis/Datas/notMNIST_large/A.pickle')),len(load_pickles('D:/Domanis/Datas/notMNIST_large/B.pickle')),len(load_pickles('D:/Domanis/Datas/notMNIST_large/C.pickle')),len(load_pickles('D:/Domanis/Datas/notMNIST_large/D.pickle')),len(load_pickles('D:/Domanis/Datas/notMNIST_large/E.pickle')),len(load_pickles('D:/Domanis/Datas/notMNIST_large/F.pickle')),len(load_pickles('D:/Domanis/Datas/notMNIST_large/G.pickle')),len(load_pickles('D:/Domanis/Datas/notMNIST_large/H.pickle')),len(load_pickles('D:/Domanis/Datas/notMNIST_large/I.pickle')),len(load_pickles('D:/Domanis/Datas/notMNIST_large/J.pickle'))]).reshape((10,1)))/10,len(load_pickles('D:/Domanis/Datas/notMNIST_large/G.pickle'))-sum(np.array([len(load_pickles('D:/Domanis/Datas/notMNIST_large/A.pickle')),len(load_pickles('D:/Domanis/Datas/notMNIST_large/B.pickle')),len(load_pickles('D:/Domanis/Datas/notMNIST_large/C.pickle')),len(load_pickles('D:/Domanis/Datas/notMNIST_large/D.pickle')),len(load_pickles('D:/Domanis/Datas/notMNIST_large/E.pickle')),len(load_pickles('D:/Domanis/Datas/notMNIST_large/F.pickle')),len(load_pickles('D:/Domanis/Datas/notMNIST_large/G.pickle')),len(load_pickles('D:/Domanis/Datas/notMNIST_large/H.pickle')),len(load_pickles('D:/Domanis/Datas/notMNIST_large/I.pickle')),len(load_pickles('D:/Domanis/Datas/notMNIST_large/J.pickle'))]).reshape((10,1)))/10,len(load_pickles('D:/Domanis/Datas/notMNIST_large/H.pickle'))-sum(np.array([len(load_pickles('D:/Domanis/Datas/notMNIST_large/A.pickle')),len(load_pickles('D:/Domanis/Datas/notMNIST_large/B.pickle')),len(load_pickles('D:/Domanis/Datas/notMNIST_large/C.pickle')),len(load_pickles('D:/Domanis/Datas/notMNIST_large/D.pickle')),len(load_pickles('D:/Domanis/Datas/notMNIST_large/E.pickle')),len(load_pickles('D:/Domanis/Datas/notMNIST_large/F.pickle')),len(load_pickles('D:/Domanis/Datas/notMNIST_large/G.pickle')),len(load_pickles('D:/Domanis/Datas/notMNIST_large/H.pickle')),len(load_pickles('D:/Domanis/Datas/notMNIST_large/I.pickle')),len(load_pickles('D:/Domanis/Datas/notMNIST_large/J.pickle'))]).reshape((10,1)))/10,len(load_pickles('D:/Domanis/Datas/notMNIST_large/I.pickle'))-sum(np.array([len(load_pickles('D:/Domanis/Datas/notMNIST_large/A.pickle')),len(load_pickles('D:/Domanis/Datas/notMNIST_large/B.pickle')),len(load_pickles('D:/Domanis/Datas/notMNIST_large/C.pickle')),len(load_pickles('D:/Domanis/Datas/notMNIST_large/D.pickle')),len(load_pickles('D:/Domanis/Datas/notMNIST_large/E.pickle')),len(load_pickles('D:/Domanis/Datas/notMNIST_large/F.pickle')),len(load_pickles('D:/Domanis/Datas/notMNIST_large/G.pickle')),len(load_pickles('D:/Domanis/Datas/notMNIST_large/H.pickle')),len(load_pickles('D:/Domanis/Datas/notMNIST_large/I.pickle')),len(load_pickles('D:/Domanis/Datas/notMNIST_large/J.pickle'))]).reshape((10,1)))/10,len(load_pickles('D:/Domanis/Datas/notMNIST_large/J.pickle'))-sum(np.array([len(load_pickles('D:/Domanis/Datas/notMNIST_large/A.pickle')),len(load_pickles('D:/Domanis/Datas/notMNIST_large/B.pickle')),len(load_pickles('D:/Domanis/Datas/notMNIST_large/C.pickle')),len(load_pickles('D:/Domanis/Datas/notMNIST_large/D.pickle')),len(load_pickles('D:/Domanis/Datas/notMNIST_large/E.pickle')),len(load_pickles('D:/Domanis/Datas/notMNIST_large/F.pickle')),len(load_pickles('D:/Domanis/Datas/notMNIST_large/G.pickle')),len(load_pickles('D:/Domanis/Datas/notMNIST_large/H.pickle')),len(load_pickles('D:/Domanis/Datas/notMNIST_large/I.pickle')),len(load_pickles('D:/Domanis/Datas/notMNIST_large/J.pickle'))]).reshape((10,1)))/10]).reshape((10,1)))))"
   ]
  },
  {
   "cell_type": "markdown",
   "metadata": {
    "colab_type": "text",
    "id": "LA7M7K22ynCt"
   },
   "source": [
    "Merge and prune the training data as needed. Depending on your computer setup, you might not be able to fit it all in memory, and you can tune `train_size` as needed. The labels will be stored into a separate array of integers 0 through 9.\n",
    "\n",
    "Also create a validation dataset for hyperparameter tuning."
   ]
  },
  {
   "cell_type": "code",
   "execution_count": 24,
   "metadata": {
    "cellView": "both",
    "colab": {
     "autoexec": {
      "startup": false,
      "wait_interval": 0
     },
     "output_extras": [
      {
       "item_id": 1
      }
     ]
    },
    "colab_type": "code",
    "executionInfo": {
     "elapsed": 411281,
     "status": "ok",
     "timestamp": 1444485897869,
     "user": {
      "color": "#1FA15D",
      "displayName": "Vincent Vanhoucke",
      "isAnonymous": false,
      "isMe": true,
      "permissionId": "05076109866853157986",
      "photoUrl": "//lh6.googleusercontent.com/-cCJa7dTDcgQ/AAAAAAAAAAI/AAAAAAAACgw/r2EZ_8oYer4/s50-c-k-no/photo.jpg",
      "sessionId": "2a0a5e044bb03b66",
      "userId": "102167687554210253930"
     },
     "user_tz": 420
    },
    "id": "s3mWgZLpyuzq",
    "outputId": "8af66da6-902d-4719-bedc-7c9fb7ae7948"
   },
   "outputs": [
    {
     "name": "stdout",
     "output_type": "stream",
     "text": [
      "Training: (200000, 28, 28) (200000,)\n",
      "Validation: (10000, 28, 28) (10000,)\n",
      "Testing: (10000, 28, 28) (10000,)\n"
     ]
    }
   ],
   "source": [
    "def make_arrays(nb_rows, img_size):\n",
    "  if nb_rows:\n",
    "    dataset = np.ndarray((nb_rows, img_size, img_size), dtype=np.float32)\n",
    "    labels = np.ndarray(nb_rows, dtype=np.int32)\n",
    "  else:\n",
    "    dataset, labels = None, None\n",
    "  return dataset, labels\n",
    "\n",
    "def merge_datasets(chemin, train_size, valid_size=0):\n",
    "  pickle_files = os.listdir(chemin)  \n",
    "  num_classes = len(pickle_files)\n",
    "  valid_dataset, valid_labels = make_arrays(valid_size, image_size)\n",
    "  train_dataset, train_labels = make_arrays(train_size, image_size)\n",
    "  vsize_per_class = valid_size // num_classes\n",
    "  tsize_per_class = train_size // num_classes\n",
    "    \n",
    "  start_v, start_t = 0, 0\n",
    "  end_v, end_t = vsize_per_class, tsize_per_class\n",
    "  end_l = vsize_per_class+tsize_per_class\n",
    "  for label, pickle_file in enumerate(pickle_files):\n",
    "    chemin_full = os.path.join(chemin,pickle_file)\n",
    "    try:\n",
    "      with open(chemin_full, 'rb') as f:\n",
    "        letter_set = pickle.load(f)\n",
    "        # let's shuffle the letters to have random validation and training set\n",
    "        np.random.shuffle(letter_set)\n",
    "        if valid_dataset is not None:\n",
    "          valid_letter = letter_set[:vsize_per_class, :, :]\n",
    "          valid_dataset[start_v:end_v, :, :] = valid_letter\n",
    "          valid_labels[start_v:end_v] = label\n",
    "          start_v += vsize_per_class\n",
    "          end_v += vsize_per_class\n",
    "                    \n",
    "        train_letter = letter_set[vsize_per_class:end_l, :, :]\n",
    "        train_dataset[start_t:end_t, :, :] = train_letter\n",
    "        train_labels[start_t:end_t] = label\n",
    "        start_t += tsize_per_class\n",
    "        end_t += tsize_per_class\n",
    "    except Exception as e:\n",
    "      print('Unable to process data from', pickle_file, ':', e)\n",
    "      raise\n",
    "    \n",
    "  return valid_dataset, valid_labels, train_dataset, train_labels\n",
    "            \n",
    "            \n",
    "train_size = 200000\n",
    "valid_size = 10000\n",
    "test_size = 10000\n",
    "\n",
    "\n",
    "valid_dataset, valid_labels, train_dataset, train_labels = merge_datasets('D:\\\\Domanis\\\\Datas\\\\notMNIST_large\\\\pickle', train_size, valid_size)\n",
    "_, _, test_dataset, test_labels = merge_datasets('D:\\\\Domanis\\\\Datas\\\\notMNIST_small\\\\pickle', test_size)\n",
    "\n",
    "print('Training:', train_dataset.shape, train_labels.shape)\n",
    "print('Validation:', valid_dataset.shape, valid_labels.shape)\n",
    "print('Testing:', test_dataset.shape, test_labels.shape)"
   ]
  },
  {
   "cell_type": "markdown",
   "metadata": {
    "colab_type": "text",
    "id": "GPTCnjIcyuKN"
   },
   "source": [
    "Next, we'll randomize the data. It's important to have the labels well shuffled for the training and test distributions to match."
   ]
  },
  {
   "cell_type": "code",
   "execution_count": 26,
   "metadata": {
    "cellView": "both",
    "colab": {
     "autoexec": {
      "startup": false,
      "wait_interval": 0
     }
    },
    "colab_type": "code",
    "id": "6WZ2l2tN2zOL"
   },
   "outputs": [],
   "source": [
    "def randomize(dataset, labels):\n",
    "  permutation = np.random.permutation(labels.shape[0])\n",
    "  shuffled_dataset = dataset[permutation,:,:]\n",
    "  shuffled_labels = labels[permutation]\n",
    "  return shuffled_dataset, shuffled_labels\n",
    "train_dataset, train_labels = randomize(train_dataset, train_labels)\n",
    "test_dataset, test_labels = randomize(test_dataset, test_labels)\n",
    "valid_dataset, valid_labels = randomize(valid_dataset, valid_labels)"
   ]
  },
  {
   "cell_type": "markdown",
   "metadata": {
    "colab_type": "text",
    "id": "puDUTe6t6USl"
   },
   "source": [
    "---\n",
    "Problem 4\n",
    "---------\n",
    "Convince yourself that the data is still good after shuffling!\n",
    "\n",
    "---"
   ]
  },
  {
   "cell_type": "code",
   "execution_count": 27,
   "metadata": {},
   "outputs": [
    {
     "name": "stdout",
     "output_type": "stream",
     "text": [
      "Label de l'image: G\n"
     ]
    },
    {
     "data": {
      "image/png": "[encoded data removed]",
      "text/plain": [
       "<matplotlib.figure.Figure at 0x216413a4b70>"
      ]
     },
     "metadata": {},
     "output_type": "display_data"
    }
   ],
   "source": [
    "num = randint(0,len(train_dataset))\n",
    "plt.imshow(train_dataset[num])\n",
    "labels = ['A','B','C','D','E','F','G','H','I','J']\n",
    "print(\"Label de l'image: \" + labels[train_labels[num]])"
   ]
  },
  {
   "cell_type": "markdown",
   "metadata": {
    "colab_type": "text",
    "id": "tIQJaJuwg5Hw"
   },
   "source": [
    "Finally, let's save the data for later reuse:"
   ]
  },
  {
   "cell_type": "code",
   "execution_count": 28,
   "metadata": {
    "cellView": "both",
    "colab": {
     "autoexec": {
      "startup": false,
      "wait_interval": 0
     }
    },
    "colab_type": "code",
    "id": "QiR_rETzem6C"
   },
   "outputs": [],
   "source": [
    "pickle_file = os.path.join(data_root, 'notMNIST.pickle')\n",
    "\n",
    "try:\n",
    "  f = open(pickle_file, 'wb')\n",
    "  save = {\n",
    "    'train_dataset': train_dataset,\n",
    "    'train_labels': train_labels,\n",
    "    'valid_dataset': valid_dataset,\n",
    "    'valid_labels': valid_labels,\n",
    "    'test_dataset': test_dataset,\n",
    "    'test_labels': test_labels,\n",
    "    }\n",
    "  pickle.dump(save, f, pickle.HIGHEST_PROTOCOL)\n",
    "  f.close()\n",
    "except Exception as e:\n",
    "  print('Unable to save data to', pickle_file, ':', e)\n",
    "  raise"
   ]
  },
  {
   "cell_type": "code",
   "execution_count": 29,
   "metadata": {
    "cellView": "both",
    "colab": {
     "autoexec": {
      "startup": false,
      "wait_interval": 0
     },
     "output_extras": [
      {
       "item_id": 1
      }
     ]
    },
    "colab_type": "code",
    "executionInfo": {
     "elapsed": 413065,
     "status": "ok",
     "timestamp": 1444485899688,
     "user": {
      "color": "#1FA15D",
      "displayName": "Vincent Vanhoucke",
      "isAnonymous": false,
      "isMe": true,
      "permissionId": "05076109866853157986",
      "photoUrl": "//lh6.googleusercontent.com/-cCJa7dTDcgQ/AAAAAAAAAAI/AAAAAAAACgw/r2EZ_8oYer4/s50-c-k-no/photo.jpg",
      "sessionId": "2a0a5e044bb03b66",
      "userId": "102167687554210253930"
     },
     "user_tz": 420
    },
    "id": "hQbLjrW_iT39",
    "outputId": "b440efc6-5ee1-4cbc-d02d-93db44ebd956"
   },
   "outputs": [
    {
     "name": "stdout",
     "output_type": "stream",
     "text": [
      "Compressed pickle size: 690800506\n"
     ]
    }
   ],
   "source": [
    "statinfo = os.stat(pickle_file)\n",
    "print('Compressed pickle size:', statinfo.st_size)"
   ]
  },
  {
   "cell_type": "markdown",
   "metadata": {
    "colab_type": "text",
    "id": "gE_cRAQB33lk"
   },
   "source": [
    "---\n",
    "Problem 5\n",
    "---------\n",
    "\n",
    "By construction, this dataset might contain a lot of overlapping samples, including training data that's also contained in the validation and test set! Overlap between training and test can skew the results if you expect to use your model in an environment where there is never an overlap, but are actually ok if you expect to see training samples recur when you use it.\n",
    "Measure how much overlap there is between training, validation and test samples.\n",
    "\n",
    "Optional questions:\n",
    "- What about near duplicates between datasets? (images that are almost identical)\n",
    "- Create a sanitized validation and test set, and compare your accuracy on those in subsequent assignments.\n",
    "---"
   ]
  },
  {
   "cell_type": "code",
   "execution_count": 3,
   "metadata": {
    "scrolled": false
   },
   "outputs": [
    {
     "name": "stdout",
     "output_type": "stream",
     "text": [
      "Nombre d'images de l'échantillon présentes dans valid_dataset: 0\n",
      "Nombre d'images de l'échantillon présentes dans test_dataset: 0\n"
     ]
    }
   ],
   "source": [
    "pickle_file = os.path.join(data_root, 'notMNIST.pickle')\n",
    "with open(pickle_file,'rb') as f:\n",
    "    datas = pickle.load(f)\n",
    "train_dataset = datas['train_dataset']\n",
    "train_labels = datas['train_labels']\n",
    "valid_dataset = datas['valid_dataset']\n",
    "valid_labels = datas['valid_labels']\n",
    "test_dataset = datas['test_dataset']\n",
    "test_labels = datas['test_labels']\n",
    "compteur_valid = 0\n",
    "compteur_test = 0\n",
    "\n",
    "sample_size = 10\n",
    "num = randint(0,len(train_dataset)-sample_size)\n",
    "\n",
    "for train_image in train_dataset[num:num+sample_size]:\n",
    "  for valid_image in valid_dataset:\n",
    "    if np.all([train_image,valid_image]) is True:\n",
    "      compteur_valid += 1\n",
    "\n",
    "for train_image in train_dataset[num:num+sample_size]:\n",
    "  for test_image in test_dataset:\n",
    "    if np.all([train_image,test_image]) is True:\n",
    "      compteur_test +=1\n",
    "print(\"Nombre d'images de l'échantillon présentes dans valid_dataset: \" + str(compteur_valid))\n",
    "print(\"Nombre d'images de l'échantillon présentes dans test_dataset: \" + str(compteur_test))"
   ]
  },
  {
   "cell_type": "markdown",
   "metadata": {
    "colab_type": "text",
    "id": "L8oww1s4JMQx"
   },
   "source": [
    "---\n",
    "Problem 6\n",
    "---------\n",
    "\n",
    "Let's get an idea of what an off-the-shelf classifier can give you on this data. It's always good to check that there is something to learn, and that it's a problem that is not so trivial that a canned solution solves it.\n",
    "\n",
    "Train a simple model on this data using 50, 100, 1000 and 5000 training samples. Hint: you can use the LogisticRegression model from sklearn.linear_model.\n",
    "\n",
    "Optional question: train an off-the-shelf model on all the data!\n",
    "\n",
    "---"
   ]
  },
  {
   "cell_type": "code",
   "execution_count": 61,
   "metadata": {},
   "outputs": [
    {
     "name": "stderr",
     "output_type": "stream",
     "text": [
      "[Parallel(n_jobs=1)]: Done   1 out of   1 | elapsed:    2.0s finished\n"
     ]
    },
    {
     "data": {
      "text/plain": [
       "LogisticRegression(C=1.0, class_weight=None, dual=False, fit_intercept=True,\n",
       "          intercept_scaling=1, max_iter=1000, multi_class='multinomial',\n",
       "          n_jobs=1, penalty='l2', random_state=42, solver='lbfgs',\n",
       "          tol=0.0001, verbose=1, warm_start=False)"
      ]
     },
     "execution_count": 61,
     "metadata": {},
     "output_type": "execute_result"
    }
   ],
   "source": [
    "def _3dto2d(x):\n",
    "    if len(x.shape) == 3:\n",
    "        x = np.reshape(x,(x.shape[0],x.shape[1]*x.shape[2]))\n",
    "    return x\n",
    "\n",
    "sample = 1000\n",
    "train_dataset = _3dto2d(train_dataset)\n",
    "\n",
    "model = LogisticRegression(multi_class='multinomial', solver='lbfgs', random_state=42, verbose=1, max_iter=1000)\n",
    "model.fit(train_dataset[:sample],train_labels[:sample])"
   ]
  },
  {
   "cell_type": "code",
   "execution_count": 62,
   "metadata": {},
   "outputs": [
    {
     "data": {
      "text/plain": [
       "0.78152"
      ]
     },
     "execution_count": 62,
     "metadata": {},
     "output_type": "execute_result"
    }
   ],
   "source": [
    "model.score(train_dataset,train_labels)"
   ]
  },
  {
   "cell_type": "code",
   "execution_count": 63,
   "metadata": {},
   "outputs": [
    {
     "data": {
      "text/plain": [
       "0.8521"
      ]
     },
     "execution_count": 63,
     "metadata": {},
     "output_type": "execute_result"
    }
   ],
   "source": [
    "test_dataset = _3dto2d(test_dataset)\n",
    "model.score(test_dataset,test_labels)"
   ]
  },
  {
   "cell_type": "code",
   "execution_count": 64,
   "metadata": {},
   "outputs": [
    {
     "data": {
      "text/plain": [
       "0.7759"
      ]
     },
     "execution_count": 64,
     "metadata": {},
     "output_type": "execute_result"
    }
   ],
   "source": [
    "valid_dataset = _3dto2d(valid_dataset)\n",
    "model.score(valid_dataset,valid_labels)"
   ]
  },
  {
   "cell_type": "code",
   "execution_count": null,
   "metadata": {},
   "outputs": [],
   "source": []
  }
 ],
 "metadata": {
  "colab": {
   "default_view": {},
   "name": "1_notmnist.ipynb",
   "provenance": [],
   "version": "0.3.2",
   "views": {}
  },
  "kernelspec": {
   "display_name": "Python 3",
   "language": "python",
   "name": "python3"
  },
  "language_info": {
   "codemirror_mode": {
    "name": "ipython",
    "version": 3
   },
   "file_extension": ".py",
   "mimetype": "text/x-python",
   "name": "python",
   "nbconvert_exporter": "python",
   "pygments_lexer": "ipython3",
   "version": "3.6.4"
  }
 },
 "nbformat": 4,
 "nbformat_minor": 1
}
